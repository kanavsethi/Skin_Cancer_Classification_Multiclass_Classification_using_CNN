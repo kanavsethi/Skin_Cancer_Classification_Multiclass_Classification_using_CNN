{
 "cells": [
  {
   "cell_type": "markdown",
   "id": "91cd45b8-7569-4c4a-9363-4620346edf9b",
   "metadata": {},
   "source": [
    "#### Augmented Image Cleaner\n",
    "\n",
    "Removed Images created by Image Augmenter to Rerun notebooks from scratch"
   ]
  },
  {
   "cell_type": "code",
   "execution_count": 3,
   "id": "e786b1e8-f298-4a12-9cbb-178543ae54ab",
   "metadata": {},
   "outputs": [],
   "source": [
    "import pathlib\n",
    "\n",
    "data_dir_train = pathlib.Path(\"./Data/Train\")"
   ]
  },
  {
   "cell_type": "code",
   "execution_count": 4,
   "id": "83ade67d-7f4d-4fb4-806c-6b697ee2670e",
   "metadata": {},
   "outputs": [],
   "source": [
    "for image in data_dir_train.glob(\"*/*.jpg\"):\n",
    "    if not str(image.name).startswith(\"ISIC_\"):\n",
    "        image.unlink()"
   ]
  },
  {
   "cell_type": "code",
   "execution_count": null,
   "id": "b9e54bcf-e572-4438-b486-1e672059ec2a",
   "metadata": {},
   "outputs": [],
   "source": []
  }
 ],
 "metadata": {
  "kernelspec": {
   "display_name": "Python 3 (ipykernel)",
   "language": "python",
   "name": "python3"
  },
  "language_info": {
   "codemirror_mode": {
    "name": "ipython",
    "version": 3
   },
   "file_extension": ".py",
   "mimetype": "text/x-python",
   "name": "python",
   "nbconvert_exporter": "python",
   "pygments_lexer": "ipython3",
   "version": "3.10.4"
  }
 },
 "nbformat": 4,
 "nbformat_minor": 5
}
